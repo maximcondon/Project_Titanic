{
 "cells": [
  {
   "cell_type": "markdown",
   "metadata": {},
   "source": [
    "# Pipelines\n",
    "\n",
    "The purpose of a pipeline in scikit-learn is to bundle multiple modeling/preprocessing steps into one, so that you can use them in cross-validation or hyperparameter search."
   ]
  },
  {
   "cell_type": "code",
   "execution_count": 1,
   "metadata": {},
   "outputs": [],
   "source": [
    "from sklearn.preprocessing import MinMaxScaler\n",
    "from sklearn.linear_model import LogisticRegression\n",
    "from sklearn.pipeline import make_pipeline\n",
    "from sklearn.model_selection import cross_val_score\n",
    "from sklearn.datasets import load_iris\n",
    "\n",
    "X, y = load_iris(return_X_y=True)\n"
   ]
  },
  {
   "cell_type": "code",
   "execution_count": 2,
   "metadata": {},
   "outputs": [],
   "source": [
    "# import warnings filter\n",
    "from warnings import simplefilter\n",
    "# ignore all future warnings\n",
    "simplefilter(action='ignore', category=FutureWarning)\n"
   ]
  },
  {
   "cell_type": "code",
   "execution_count": 3,
   "metadata": {
    "scrolled": true
   },
   "outputs": [
    {
     "name": "stdout",
     "output_type": "stream",
     "text": [
      "[0.76666667 0.83333333 0.76666667 0.86666667 0.96666667]\n",
      "0.8400000000000001\n",
      "0.07423685817106694\n"
     ]
    }
   ],
   "source": [
    "p = make_pipeline(\n",
    "        MinMaxScaler(),\n",
    "        LogisticRegression()\n",
    "      )\n",
    "p.fit(X, y)\n",
    "p.score(X, y)\n",
    "\n",
    "scores = cross_val_score(p, X, y, cv=5)\n",
    "print(scores)\n",
    "print(scores.mean())\n",
    "print(scores.std())"
   ]
  },
  {
   "cell_type": "markdown",
   "metadata": {},
   "source": [
    "#### Alternatively, import Pipeline:"
   ]
  },
  {
   "cell_type": "code",
   "execution_count": 4,
   "metadata": {},
   "outputs": [
    {
     "name": "stdout",
     "output_type": "stream",
     "text": [
      "0.9666666666666667\n",
      "[0.96666667 0.96666667 0.96666667 0.93333333 1.        ]\n",
      "0.9666666666666666\n",
      "0.02108185106778919\n"
     ]
    }
   ],
   "source": [
    "from sklearn.pipeline import Pipeline\n",
    "from sklearn import svm\n",
    "\n",
    "model = Pipeline([\n",
    "        ('scaler', MinMaxScaler()),\n",
    "        ('svc', svm.SVC(kernel='linear', C=1.0)),\n",
    "    ])\n",
    "\n",
    "model.fit(X, y)\n",
    "\n",
    "print(model.score(X, y))\n",
    "\n",
    "scores = cross_val_score(model, X, y, cv=5)\n",
    "print(scores)\n",
    "print(scores.mean())\n",
    "print(scores.std())"
   ]
  },
  {
   "cell_type": "markdown",
   "metadata": {},
   "source": [
    "## Building your own Estimator\n",
    "\n",
    "Often it is neccessary to write code for feature engineering for which no scikit-learn function exists. If you want to apply such operations to new data, you can write your own Estimator class that can be integrated into a pipeline:"
   ]
  },
  {
   "cell_type": "code",
   "execution_count": 6,
   "metadata": {
    "scrolled": true
   },
   "outputs": [
    {
     "name": "stdout",
     "output_type": "stream",
     "text": [
      "0    1.0\n",
      "1    3.0\n",
      "2    2.0\n",
      "3    4.0\n",
      "4    0.0\n",
      "dtype: float64\n"
     ]
    }
   ],
   "source": [
    "from sklearn.utils.validation import check_X_y, check_array, check_is_fitted\n",
    "from sklearn.utils.multiclass import unique_labels\n",
    "from sklearn.base import BaseEstimator, TransformerMixin\n",
    "import pandas as pd\n",
    "import numpy as np\n",
    "\n",
    "class FillMissingValues(BaseEstimator, TransformerMixin):\n",
    "    \n",
    "    def __init__(self, strategy='mean'):\n",
    "        \"\"\"Store the hyperparameters\"\"\"\n",
    "        self.strategy = strategy\n",
    "\n",
    "    def fit(self, X):\n",
    "        self.mean_ = X.mean()\n",
    "        return self\n",
    "\n",
    "    def transform(self, X):\n",
    "        return X.fillna(self.mean_)\n",
    "\n",
    "    def get_params(self, deep=True):\n",
    "        \"\"\"Scikit requires us to return a dictionary here\"\"\"\n",
    "        return {\"strategy\": self.strategy}\n",
    "\n",
    "    def set_params(self, **parameters):\n",
    "        \"\"\"Scikit uses this to set parameters\"\"\"\n",
    "        for parameter, value in parameters.items():\n",
    "             setattr(self, parameter, value)\n",
    "        return self\n",
    "\n",
    "X = pd.Series([1, 3, np.NaN, 4, 0])\n",
    "m = FillMissingValues()\n",
    "m.fit(X)\n",
    "print(m.transform(X))\n",
    "\n",
    "# use ClassifierMixin in you want to create your own model\n",
    "#  (needs to have a predict() method)"
   ]
  },
  {
   "cell_type": "code",
   "execution_count": null,
   "metadata": {},
   "outputs": [],
   "source": []
  }
 ],
 "metadata": {
  "kernelspec": {
   "display_name": "Python 3",
   "language": "python",
   "name": "python3"
  },
  "language_info": {
   "codemirror_mode": {
    "name": "ipython",
    "version": 3
   },
   "file_extension": ".py",
   "mimetype": "text/x-python",
   "name": "python",
   "nbconvert_exporter": "python",
   "pygments_lexer": "ipython3",
   "version": "3.7.1"
  }
 },
 "nbformat": 4,
 "nbformat_minor": 2
}
