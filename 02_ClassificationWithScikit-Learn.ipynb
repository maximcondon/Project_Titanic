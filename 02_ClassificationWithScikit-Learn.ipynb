{
 "cells": [
  {
   "cell_type": "markdown",
   "metadata": {},
   "source": [
    "# Classification with Scikit-Learn\n",
    "\n",
    "In this lesson, you will learn the basic functionality of Scikit-Learn, one of the most important Machine Learning packages in Python. We will use an example dataset of Iris flowers.\n",
    "\n",
    "### Cheat sheet\n",
    "https://s3.amazonaws.com/assets.datacamp.com/blog_assets/Scikit_Learn_Cheat_Sheet_Python.pdf"
   ]
  },
  {
   "cell_type": "markdown",
   "metadata": {},
   "source": [
    "## Concepts\n",
    "\n",
    "|   concept   | description |\n",
    "|:-----------:|:-----------:|\n",
    "| Estimators | how models in Scikit-learn are called |\n",
    "| m.fit() | method to train |\n",
    "| m.predict() | creates a prediction for unknown data |\n",
    "| m.transform() | transforms features (in some models) |\n",
    "| train_test_split() |splits data in a training and test portion |\n",
    "| random_state | parameter for reproducible random numbers |\n",
    "\n",
    "### 1. Load the example data"
   ]
  },
  {
   "cell_type": "code",
   "execution_count": 1,
   "metadata": {},
   "outputs": [],
   "source": [
    "from sklearn import datasets"
   ]
  },
  {
   "cell_type": "code",
   "execution_count": 2,
   "metadata": {},
   "outputs": [],
   "source": [
    "iris = datasets.load_iris()"
   ]
  },
  {
   "cell_type": "code",
   "execution_count": 3,
   "metadata": {},
   "outputs": [],
   "source": [
    "X = iris.data[:,:2]\n",
    "y = iris.target"
   ]
  },
  {
   "cell_type": "markdown",
   "metadata": {},
   "source": [
    "### 2. Constructing a model in Scikit-Learn"
   ]
  },
  {
   "cell_type": "code",
   "execution_count": 4,
   "metadata": {},
   "outputs": [],
   "source": [
    "from sklearn import svm\n",
    "from sklearn.model_selection import train_test_split"
   ]
  },
  {
   "cell_type": "code",
   "execution_count": 5,
   "metadata": {},
   "outputs": [],
   "source": [
    "Xtrain, Xtest, ytrain, ytest = train_test_split(X, y,\n",
    "                                                test_size = 0.5,\n",
    "                                                random_state = 42)"
   ]
  },
  {
   "cell_type": "code",
   "execution_count": 6,
   "metadata": {},
   "outputs": [
    {
     "name": "stdout",
     "output_type": "stream",
     "text": [
      "Train score:  0.7866666666666666\n",
      "Test score:  0.76\n"
     ]
    }
   ],
   "source": [
    "model = svm.SVC(kernel = 'linear', C=1.0)\n",
    "model.fit(Xtrain, ytrain)\n",
    "\n",
    "print(\"Train score: \", model.score(Xtrain, ytrain))\n",
    "print(\"Test score: \", model.score(Xtest, ytest))"
   ]
  },
  {
   "cell_type": "markdown",
   "metadata": {},
   "source": [
    "### 3. Predictions for unknown data"
   ]
  },
  {
   "cell_type": "code",
   "execution_count": 7,
   "metadata": {},
   "outputs": [
    {
     "name": "stdout",
     "output_type": "stream",
     "text": [
      "predictions:\n",
      "[5.  3.3] 0 -> setosa\n",
      "[4.7 2.1] 1 -> versicolor\n"
     ]
    }
   ],
   "source": [
    "import numpy as np\n",
    "\n",
    "Xnew = np.array([[5.0, 3.3], [4.7, 2.1]])\n",
    "ypred = model.predict(Xnew)\n",
    "\n",
    "print(\"predictions:\")\n",
    "for x, y in zip(Xnew, ypred):\n",
    "    label = iris.target_names[y]\n",
    "    print(x, y, \"->\", label)"
   ]
  },
  {
   "cell_type": "markdown",
   "metadata": {},
   "source": [
    "## Exercise\n",
    "\n",
    "1. Evaluate a SVC classifier on the iris data.\n",
    "2. Use a SVC classifier on the Titanic data.\n",
    "3. Find out what classification methods are there on the Scikit-Learn website. Use one or more of them.\n",
    "4. Use sklearn.dummy.DummyClassifier with the default parameters, resulting in a 33% chance for each type of iris.\n",
    "5. Change the parameters so that sklearn.dummy.DummyClassifier predicts 1 for any data point.\n",
    "6. Evaluate both classifiers on the same dataset."
   ]
  },
  {
   "cell_type": "code",
   "execution_count": null,
   "metadata": {},
   "outputs": [],
   "source": []
  }
 ],
 "metadata": {
  "kernelspec": {
   "display_name": "Python 3",
   "language": "python",
   "name": "python3"
  },
  "language_info": {
   "codemirror_mode": {
    "name": "ipython",
    "version": 3
   },
   "file_extension": ".py",
   "mimetype": "text/x-python",
   "name": "python",
   "nbconvert_exporter": "python",
   "pygments_lexer": "ipython3",
   "version": "3.7.1"
  }
 },
 "nbformat": 4,
 "nbformat_minor": 2
}
